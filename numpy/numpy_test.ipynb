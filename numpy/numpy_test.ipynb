{
 "cells": [
  {
   "cell_type": "code",
   "execution_count": 2,
   "metadata": {},
   "outputs": [
    {
     "name": "stdout",
     "output_type": "stream",
     "text": [
      "[1 2 3]\n"
     ]
    }
   ],
   "source": [
    "import numpy as np\n",
    "\n",
    "array = np.array([1, 2, 3])\n",
    "print(array)"
   ]
  },
  {
   "cell_type": "code",
   "execution_count": 3,
   "metadata": {},
   "outputs": [
    {
     "name": "stdout",
     "output_type": "stream",
     "text": [
      "[0 1 2 3]\n",
      "[[0. 0. 0. 0.]\n",
      " [0. 0. 0. 0.]\n",
      " [0. 0. 0. 0.]\n",
      " [0. 0. 0. 0.]]\n",
      "[['1' '1' '1']\n",
      " ['1' '1' '1']\n",
      " ['1' '1' '1']]\n"
     ]
    }
   ],
   "source": [
    "# 1 to 3 array\n",
    "array = np.arange(4)\n",
    "print(array)\n",
    "\n",
    "array2 = np.zeros((4, 4), dtype=float)\n",
    "print(array2)\n",
    "\n",
    "array3 = np.ones((3, 3,), dtype=str)\n",
    "print(array3)"
   ]
  },
  {
   "cell_type": "code",
   "execution_count": 4,
   "metadata": {},
   "outputs": [
    {
     "name": "stdout",
     "output_type": "stream",
     "text": [
      "[[8 6 4]\n",
      " [0 0 9]\n",
      " [0 0 4]]\n",
      "[[-0.55505214  0.92206704  0.14473409]\n",
      " [-1.07601159 -1.22293713  1.13766374]\n",
      " [ 0.15906146 -0.03536301  0.46838502]]\n"
     ]
    }
   ],
   "source": [
    "# 0 to 9 random array\n",
    "\n",
    "array4 = np.random.randint(0, 10, (3, 3))\n",
    "print(array4)\n",
    "\n",
    "# mean is 0, standard deviation is 1 random array\n",
    "\n",
    "array5 = np.random.normal(0, 1, (3, 3))\n",
    "print(array5)"
   ]
  },
  {
   "attachments": {},
   "cell_type": "markdown",
   "metadata": {},
   "source": [
    "concatenate array"
   ]
  },
  {
   "cell_type": "code",
   "execution_count": 5,
   "metadata": {},
   "outputs": [
    {
     "name": "stdout",
     "output_type": "stream",
     "text": [
      "(6,)\n",
      "[1 2 3 4 5 6]\n"
     ]
    }
   ],
   "source": [
    "array1 = np.array([1, 2, 3])\n",
    "array2 = np.array([4, 5, 6])\n",
    "\n",
    "array3 = np.concatenate([array1, array2])\n",
    "print(array3.shape)\n",
    "print(array3)"
   ]
  },
  {
   "cell_type": "code",
   "execution_count": 6,
   "metadata": {},
   "outputs": [
    {
     "name": "stdout",
     "output_type": "stream",
     "text": [
      "[[0]\n",
      " [1]\n",
      " [2]\n",
      " [3]]\n",
      "[[0 1]\n",
      " [2 3]\n",
      " [4 5]\n",
      " [6 7]]\n",
      "[[0 0 1]\n",
      " [1 2 3]\n",
      " [2 4 5]\n",
      " [3 6 7]]\n"
     ]
    }
   ],
   "source": [
    "array1 = np.arange(4).reshape(4, 1)\n",
    "array2 = np.arange(8).reshape(4, 2)\n",
    "\n",
    "print(array1)\n",
    "print(array2)\n",
    "\n",
    "array3 = np.concatenate([array1, array2], axis=1)\n",
    "print(array3)"
   ]
  },
  {
   "attachments": {},
   "cell_type": "markdown",
   "metadata": {},
   "source": [
    "array split"
   ]
  },
  {
   "cell_type": "code",
   "execution_count": 7,
   "metadata": {},
   "outputs": [
    {
     "name": "stdout",
     "output_type": "stream",
     "text": [
      "[[0 1]\n",
      " [4 5]]\n",
      "[[2 3]\n",
      " [6 7]]\n"
     ]
    }
   ],
   "source": [
    "array = np.arange(8).reshape(2, 4)\n",
    "# vertical split\n",
    "left, right = np.split(array, [2], axis=1)\n",
    "\n",
    "print(left)\n",
    "print(right)"
   ]
  },
  {
   "attachments": {},
   "cell_type": "markdown",
   "metadata": {},
   "source": [
    "numpy ops"
   ]
  },
  {
   "cell_type": "code",
   "execution_count": 10,
   "metadata": {},
   "outputs": [
    {
     "name": "stdout",
     "output_type": "stream",
     "text": [
      "[[3 4]\n",
      " [1 5]]\n"
     ]
    }
   ],
   "source": [
    "array = np.random.randint(1, 10, size=4).reshape(2, 2)\n",
    "print(array)"
   ]
  },
  {
   "cell_type": "code",
   "execution_count": 13,
   "metadata": {},
   "outputs": [
    {
     "name": "stdout",
     "output_type": "stream",
     "text": [
      "[[30 40]\n",
      " [10 50]]\n"
     ]
    }
   ],
   "source": [
    "result_array = array * 10\n",
    "print(result_array)"
   ]
  },
  {
   "cell_type": "code",
   "execution_count": 15,
   "metadata": {},
   "outputs": [
    {
     "name": "stdout",
     "output_type": "stream",
     "text": [
      "[[13 14]\n",
      " [11 15]]\n"
     ]
    }
   ],
   "source": [
    "result_array = array + 10\n",
    "print(result_array)"
   ]
  },
  {
   "attachments": {},
   "cell_type": "markdown",
   "metadata": {},
   "source": [
    "Broadcasting 이 되어, 서로 다른 배열도 연산이 된다."
   ]
  },
  {
   "cell_type": "code",
   "execution_count": 19,
   "metadata": {},
   "outputs": [
    {
     "name": "stdout",
     "output_type": "stream",
     "text": [
      "[[3 4]\n",
      " [1 5]]\n",
      "[[4 4]]\n",
      "[[7 8]\n",
      " [5 9]]\n"
     ]
    }
   ],
   "source": [
    "array1 = np.random.randint(1, 10, size=2).reshape(1, 2)\n",
    "print(array)\n",
    "print(array1)\n",
    "print(array + array1)\n",
    "\n",
    "# broadcasting"
   ]
  },
  {
   "cell_type": "code",
   "execution_count": 25,
   "metadata": {},
   "outputs": [
    {
     "name": "stdout",
     "output_type": "stream",
     "text": [
      "[[0 1 2 3]\n",
      " [4 5 6 7]\n",
      " [0 1 2 3]\n",
      " [4 5 6 7]]\n",
      "[[0]\n",
      " [1]\n",
      " [2]\n",
      " [3]]\n",
      "[[ 0  1  2  3]\n",
      " [ 5  6  7  8]\n",
      " [ 2  3  4  5]\n",
      " [ 7  8  9 10]]\n"
     ]
    }
   ],
   "source": [
    "array1 = np.arange(0, 8).reshape(2, 4)\n",
    "array2 = np.arange(0, 8).reshape(2, 4)\n",
    "array3 = np.concatenate([array1, array2], axis=0)\n",
    "print(array3)\n",
    "\n",
    "array4 = np.arange(0, 4).reshape(4, 1)\n",
    "print(array4)\n",
    "\n",
    "print(array3 + array4)"
   ]
  },
  {
   "attachments": {},
   "cell_type": "markdown",
   "metadata": {},
   "source": [
    "masked array : 마스킹 연산"
   ]
  },
  {
   "cell_type": "code",
   "execution_count": 33,
   "metadata": {},
   "outputs": [
    {
     "name": "stdout",
     "output_type": "stream",
     "text": [
      "[[ 0  1  2  3]\n",
      " [ 4  5  6  7]\n",
      " [ 8  9 10 11]\n",
      " [12 13 14 15]]\n",
      "[[ True  True  True  True]\n",
      " [ True  True  True  True]\n",
      " [ True  True False False]\n",
      " [False False False False]]\n",
      "[[100 100 100 100]\n",
      " [100 100 100 100]\n",
      " [100 100  10  11]\n",
      " [ 12  13  14  15]]\n"
     ]
    }
   ],
   "source": [
    "array1 = np.arange(16).reshape(4, 4)\n",
    "print(array1)\n",
    "array2 = array1 < 10\n",
    "print(array2)\n",
    "\n",
    "array1[array2] = 100\n",
    "# if array2 is true, array1 value is 100\n",
    "print(array1)\n",
    "# array1 is masked array."
   ]
  },
  {
   "cell_type": "code",
   "execution_count": 41,
   "metadata": {},
   "outputs": [
    {
     "name": "stdout",
     "output_type": "stream",
     "text": [
      "max val of arr: 15\n",
      "min val of arr: 0\n",
      "sum of arr: 120\n",
      "mean of arr: 7.5\n",
      "\n",
      "sum of arr axis=0: [24 28 32 36]\n"
     ]
    }
   ],
   "source": [
    "array = np.arange(16).reshape(4, 4)\n",
    "print(\"max val of arr:\", np.max(array))\n",
    "print(\"min val of arr:\", np.min(array))\n",
    "print(\"sum of arr:\", np.sum(array))\n",
    "print(\"mean of arr:\", np.mean(array))\n",
    "print()\n",
    "\n",
    "print(\"sum of arr axis=0:\", np.sum(array, axis=0))"
   ]
  },
  {
   "attachments": {},
   "cell_type": "markdown",
   "metadata": {},
   "source": [
    "Save and load in numpy"
   ]
  },
  {
   "cell_type": "code",
   "execution_count": 46,
   "metadata": {},
   "outputs": [
    {
     "name": "stdout",
     "output_type": "stream",
     "text": [
      "[[0 1 2 3 4]\n",
      " [5 6 7 8 9]]\n"
     ]
    }
   ],
   "source": [
    "array = np.arange(0, 10)\n",
    "np.save('saved.npy', array)\n",
    "# save array to saved.npy\n",
    "\n",
    "result = np.load('saved.npy').reshape(2, 5)\n",
    "print(result)"
   ]
  },
  {
   "cell_type": "code",
   "execution_count": null,
   "metadata": {},
   "outputs": [],
   "source": [
    "# also can save&load multiple array\n",
    "array1 = np.arange(0, 10)\n",
    "array2 = np.aragen(10, 20)\n",
    "\n",
    "np.savez('saved.npz', array1=array1, array2=array2)"
   ]
  },
  {
   "attachments": {},
   "cell_type": "markdown",
   "metadata": {},
   "source": [
    "Numpy sorting"
   ]
  },
  {
   "cell_type": "code",
   "execution_count": 53,
   "metadata": {},
   "outputs": [
    {
     "name": "stdout",
     "output_type": "stream",
     "text": [
      "Before sorting\n",
      " [ 5  9 10  3  1]\n",
      "After sorting\n",
      " [ 1  3  5  9 10]\n",
      "lower using indexing\n",
      " [10  9  5  3  1]\n"
     ]
    }
   ],
   "source": [
    "# sorting to upper case\n",
    "array = np.array([5, 9, 10, 3, 1])\n",
    "print(\"Before sorting\\n\", array)\n",
    "array.sort()\n",
    "print(\"After sorting\\n\", array)\n",
    "# sorting to lower case\n",
    "print(\"lower using indexing\\n\", array[::-1])"
   ]
  },
  {
   "cell_type": "code",
   "execution_count": 55,
   "metadata": {},
   "outputs": [
    {
     "name": "stdout",
     "output_type": "stream",
     "text": [
      "Before sorting\n",
      " [[ 5  9 10  3  1]\n",
      " [ 8  3  4  2  5]]\n",
      "After sorting\n",
      " [[ 5  3  4  2  1]\n",
      " [ 8  9 10  3  5]]\n"
     ]
    }
   ],
   "source": [
    "# sorting according to row\n",
    "array = np.array([[5, 9, 10, 3, 1], [8, 3, 4, 2, 5]])\n",
    "print(\"Before sorting\\n\", array)\n",
    "array.sort(axis=0)\n",
    "print(\"After sorting\\n\", array)"
   ]
  },
  {
   "attachments": {},
   "cell_type": "markdown",
   "metadata": {},
   "source": [
    "even interval using linspace"
   ]
  },
  {
   "cell_type": "code",
   "execution_count": 59,
   "metadata": {},
   "outputs": [
    {
     "name": "stdout",
     "output_type": "stream",
     "text": [
      "[ 0.   2.5  5.   7.5 10. ]\n"
     ]
    }
   ],
   "source": [
    "# there are 5 datas between 0 to 10\n",
    "array = np.linspace(0, 10, 5)\n",
    "print(array)"
   ]
  },
  {
   "attachments": {},
   "cell_type": "markdown",
   "metadata": {},
   "source": [
    "난수의 재연"
   ]
  },
  {
   "cell_type": "code",
   "execution_count": 83,
   "metadata": {},
   "outputs": [
    {
     "name": "stdout",
     "output_type": "stream",
     "text": [
      "[[4 9 6]\n",
      " [3 3 7]]\n"
     ]
    }
   ],
   "source": [
    "#print(np.random.randint(0, 10, (2, 3)))\n",
    "\n",
    "np.random.seed(7)\n",
    "print(np.random.randint(0, 10, (2, 3)))"
   ]
  },
  {
   "attachments": {},
   "cell_type": "markdown",
   "metadata": {},
   "source": [
    "Numpy class copy"
   ]
  },
  {
   "cell_type": "code",
   "execution_count": 86,
   "metadata": {},
   "outputs": [
    {
     "name": "stdout",
     "output_type": "stream",
     "text": [
      "[99  1  2  3  4  5  6  7  8  9]\n",
      "[0 1 2 3 4 5 6 7 8 9]\n"
     ]
    }
   ],
   "source": [
    "array1 = np.arange(0, 10)\n",
    "array2 = array1\n",
    "array2[0] = 99\n",
    "print(array1)\n",
    "\n",
    "array1 = np.arange(0, 10)\n",
    "array2 = array1.copy()\n",
    "array2[0] = 99\n",
    "print(array1)"
   ]
  },
  {
   "attachments": {},
   "cell_type": "markdown",
   "metadata": {},
   "source": [
    "Remove duplicate elements "
   ]
  },
  {
   "cell_type": "code",
   "execution_count": 87,
   "metadata": {},
   "outputs": [
    {
     "name": "stdout",
     "output_type": "stream",
     "text": [
      "[1 2 3 4]\n"
     ]
    }
   ],
   "source": [
    "array = np.array([1, 1, 2, 2, 3, 3, 4])\n",
    "print(np.unique(array))"
   ]
  }
 ],
 "metadata": {
  "kernelspec": {
   "display_name": "tf2",
   "language": "python",
   "name": "python3"
  },
  "language_info": {
   "codemirror_mode": {
    "name": "ipython",
    "version": 3
   },
   "file_extension": ".py",
   "mimetype": "text/x-python",
   "name": "python",
   "nbconvert_exporter": "python",
   "pygments_lexer": "ipython3",
   "version": "3.8.16"
  },
  "orig_nbformat": 4
 },
 "nbformat": 4,
 "nbformat_minor": 2
}
